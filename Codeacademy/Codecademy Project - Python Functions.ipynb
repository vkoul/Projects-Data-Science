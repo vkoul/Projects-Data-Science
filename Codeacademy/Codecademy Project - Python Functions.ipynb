{
 "cells": [
  {
   "cell_type": "markdown",
   "metadata": {},
   "source": [
    "# Getting Ready for a Physics Class"
   ]
  },
  {
   "cell_type": "markdown",
   "metadata": {},
   "source": [
    "### You are a physics teacher preparing for the upcoming semester. You want to provide your students with some functions that will help them calculate some fundamental physical properties."
   ]
  },
  {
   "cell_type": "markdown",
   "metadata": {},
   "source": [
    "#### 1. Turn up the Temperature"
   ]
  },
  {
   "cell_type": "markdown",
   "metadata": {},
   "source": [
    "Q1) Write a function called `f_to_c` that takes an input `f_temp`, a temperature in Fahrenheit, and converts it to `c_temp`, that temperature in Celsius. It should then return `c_temp`.\n",
    "\n",
    "The equation you should use is:\n",
    "\n",
    "    Temp (C) = (Temp (F) - 32) * 5/9\n"
   ]
  },
  {
   "cell_type": "code",
   "execution_count": 15,
   "metadata": {},
   "outputs": [
    {
     "data": {
      "text/plain": [
       "37.77777777777778"
      ]
     },
     "execution_count": 15,
     "metadata": {},
     "output_type": "execute_result"
    }
   ],
   "source": [
    "# Defining the Farenheit to Celsius function\n",
    "def f_to_c(f_temp):\n",
    "      c_temp = (f_temp - 32) * 5/9\n",
    "      return c_temp\n",
    "\n",
    "# Checking the function for 100 Farenheits\n",
    "f_to_c(100)"
   ]
  },
  {
   "cell_type": "markdown",
   "metadata": {},
   "source": [
    "Q2) Write a function called c_to_f that takes an input c_temp, a temperature in Celsius, and converts it to f_temp, that temperature in Fahrenheit.It should then return f_temp.\n",
    "\n",
    "The equation you should use is:\n",
    "        \n",
    "        Temp (F) = Temp (C) * (9/5) + 32"
   ]
  },
  {
   "cell_type": "code",
   "execution_count": 14,
   "metadata": {},
   "outputs": [
    {
     "data": {
      "text/plain": [
       "32.0"
      ]
     },
     "execution_count": 14,
     "metadata": {},
     "output_type": "execute_result"
    }
   ],
   "source": [
    "# Defining Celsius to Farenheit function\n",
    "\n",
    "def c_to_f(c_temp):\n",
    "    f_temp = c_temp * (9/5) + 32\n",
    "    return f_temp\n",
    "\n",
    "# Checking the function for 0 Celsius\n",
    "c_to_f(0)"
   ]
  },
  {
   "cell_type": "markdown",
   "metadata": {},
   "source": [
    "#### 2. Use the Force"
   ]
  },
  {
   "cell_type": "markdown",
   "metadata": {},
   "source": [
    "2.a) Define a function called `get_force` that takes in `mass` and `acceleration`. It should return mass multiplied by acceleration."
   ]
  },
  {
   "cell_type": "code",
   "execution_count": 17,
   "metadata": {},
   "outputs": [
    {
     "name": "stdout",
     "output_type": "stream",
     "text": [
      "The GE train supplies 226800 Newtons of force\n"
     ]
    }
   ],
   "source": [
    "# Defining the function get_force\n",
    "\n",
    "def get_force(mass, accelration):\n",
    "    return mass * accelration\n",
    "\n",
    "# Testing the function\n",
    "train_mass = 22680\n",
    "train_acceleration = 10\n",
    "\n",
    "train_force = get_force(train_mass, train_acceleration)\n",
    "\n",
    "print(\"The GE train supplies \" + str(train_force) + \" Newtons of force\")\n"
   ]
  },
  {
   "cell_type": "markdown",
   "metadata": {},
   "source": [
    "2.b) Define a function called get_energy that takes in `mass` and `c`. `c` is a constant that is usually set to the speed of light, which is roughly `3 x 10^8`. Set c to have a default value of `3*10^8`. `get_energy` should return `mass` multiplied by `c` squared."
   ]
  },
  {
   "cell_type": "code",
   "execution_count": 20,
   "metadata": {},
   "outputs": [
    {
     "name": "stdout",
     "output_type": "stream",
     "text": [
      "A 1kg bomb supplies 300000000 Joules.\n"
     ]
    }
   ],
   "source": [
    "# Defining the get_energy function\n",
    "\n",
    "def get_energy(mass, c = 3*10**8):\n",
    "    return mass * c\n",
    "\n",
    "# Testing the function\n",
    "bomb_mass = 1\n",
    "\n",
    "# getting the energy in 1kg of bomb\n",
    "bomb_energy = get_energy(bomb_mass)\n",
    "  \n",
    "print(\"A 1kg bomb supplies \" + str(bomb_energy)+ \" Joules.\")"
   ]
  },
  {
   "cell_type": "markdown",
   "metadata": {},
   "source": [
    "#### 3. Do the work"
   ]
  },
  {
   "cell_type": "markdown",
   "metadata": {},
   "source": [
    "3.a) Define a final function called `get_work` that takes in `mass`, `acceleration` and `distance`. Work is defined as force multiplied by distance. First, get the force using get_force, then multiply that by distance. Return the result.\n"
   ]
  },
  {
   "cell_type": "code",
   "execution_count": 21,
   "metadata": {},
   "outputs": [
    {
     "name": "stdout",
     "output_type": "stream",
     "text": [
      "The GE train does 22680000 Joules of work over 100 meters\n"
     ]
    }
   ],
   "source": [
    "# Defining the function \n",
    "def get_work(mass, acceleration, distance):\n",
    "    return mass * acceleration * distance\n",
    "\n",
    "# values to be used\n",
    "train_mass = 22680\n",
    "train_acceleration = 10\n",
    "train_distance = 100\n",
    "\n",
    "# using the values to test the function \n",
    "train_work = get_work(train_mass, train_acceleration, train_distance)\n",
    "\n",
    "print(\"The GE train does \"+ str(train_work)+ \" Joules of work over \" + str(train_distance) +\" meters\")\n"
   ]
  },
  {
   "cell_type": "markdown",
   "metadata": {},
   "source": [
    "# Python Function Code Challenges\n"
   ]
  },
  {
   "cell_type": "markdown",
   "metadata": {},
   "source": [
    "a) Write a function named `average()` that has two parameters named `num1` and `num2`.The function should return the average of these two numbers."
   ]
  },
  {
   "cell_type": "code",
   "execution_count": 24,
   "metadata": {},
   "outputs": [
    {
     "name": "stdout",
     "output_type": "stream",
     "text": [
      "50.5\n",
      "0.0\n"
     ]
    }
   ],
   "source": [
    "# defining the function \n",
    "\n",
    "def average(num1, num2):\n",
    "    return (num1 + num2)/2\n",
    "\n",
    "# testing the function\n",
    "\n",
    "print(average(1, 100))\n",
    "# The average of 1 and 100 is 50.5\n",
    "\n",
    "print(average(1, -1))\n",
    "# The average of 1 and -1 is 0"
   ]
  },
  {
   "cell_type": "markdown",
   "metadata": {},
   "source": [
    "b) Write a function named `tenth_power()` that has one parameter named `num`. The function should return num raised to the 10th power."
   ]
  },
  {
   "cell_type": "code",
   "execution_count": 26,
   "metadata": {},
   "outputs": [
    {
     "name": "stdout",
     "output_type": "stream",
     "text": [
      "1\n",
      "0\n",
      "1024\n"
     ]
    }
   ],
   "source": [
    "def tenth_power(num):\n",
    "    return num**10\n",
    "\n",
    "# testing the function \n",
    "\n",
    "print(tenth_power(1))\n",
    "# 1 to the 10th power is 1\n",
    "\n",
    "print(tenth_power(0))\n",
    "# 0 to the 10th power is 0\n",
    "\n",
    "print(tenth_power(2))\n",
    "# 2 to the 10th power is 1024"
   ]
  },
  {
   "cell_type": "markdown",
   "metadata": {},
   "source": [
    "c) Write a function named `introduction()` that has two parameters named `first_name` and `last_name`.The function should return the last_name, followed by a comma, a space, first_name another space, and finally last_name.\n"
   ]
  },
  {
   "cell_type": "code",
   "execution_count": 27,
   "metadata": {},
   "outputs": [
    {
     "name": "stdout",
     "output_type": "stream",
     "text": [
      "Bond, James Bond\n",
      "Angelou, Maya Angelou\n"
     ]
    }
   ],
   "source": [
    "# defining the function\n",
    "def introduction(first_name, last_name):\n",
    "    return last_name + \",\" + \" \" + first_name + \" \"+ last_name\n",
    "\n",
    "# testing the function \n",
    "print(introduction(\"James\", \"Bond\"))\n",
    "print(introduction(\"Maya\", \"Angelou\"))"
   ]
  },
  {
   "cell_type": "markdown",
   "metadata": {},
   "source": [
    "c) Write a function named `first_three_multiples()` that has one parameter named `num`.This function should print the first three multiples of num. Then, it should return the third multiple.\n",
    "For example, first_three_multiples(7) should print 7, 14, and 21 on three different lines, and return 21."
   ]
  },
  {
   "cell_type": "code",
   "execution_count": 28,
   "metadata": {},
   "outputs": [
    {
     "name": "stdout",
     "output_type": "stream",
     "text": [
      "10\n",
      "20\n",
      "30\n"
     ]
    },
    {
     "data": {
      "text/plain": [
       "30"
      ]
     },
     "execution_count": 28,
     "metadata": {},
     "output_type": "execute_result"
    }
   ],
   "source": [
    "def first_three_multiples(num):\n",
    "    print(num * 1)\n",
    "    print(num * 2)\n",
    "    print(num * 3)\n",
    "    return num * 3\n",
    "    \n",
    "# testing the function\n",
    "first_three_multiples(10)\n",
    "    "
   ]
  },
  {
   "cell_type": "markdown",
   "metadata": {},
   "source": [
    " d) Some say that every one year of a human’s life is equivalent to seven years of a dog’s life. Write a function named `dog_years()` that has two parameters named name and age. The function should compute the age in dog years and return the following string:\n",
    "    \n",
    "    \"{name}, you are {age} years old in dog years\""
   ]
  },
  {
   "cell_type": "code",
   "execution_count": 30,
   "metadata": {},
   "outputs": [
    {
     "name": "stdout",
     "output_type": "stream",
     "text": [
      "Lola, you are 112 years old in dog years\n"
     ]
    }
   ],
   "source": [
    "def dog_years(name, age):\n",
    "  dog_age = age * 7\n",
    "  return name + \", you are \" + str(dog_age) + \" years old in dog years\"\n",
    "\n",
    "# testing the function\n",
    "print(dog_years(\"Lola\", 16))"
   ]
  },
  {
   "cell_type": "markdown",
   "metadata": {},
   "source": [
    "e) Write a function named `remainder()` that has two parameters named `num1` and `num2`. The function should return the remainder of twice num1 divided by half of num2."
   ]
  },
  {
   "cell_type": "code",
   "execution_count": 31,
   "metadata": {},
   "outputs": [
    {
     "name": "stdout",
     "output_type": "stream",
     "text": [
      "2.0\n"
     ]
    }
   ],
   "source": [
    "# defining the function \n",
    "def remainder(num1, num2):\n",
    "      return (num1*2) % (num2/2)\n",
    "\n",
    "# testing the function \n",
    "print(remainder(15, 14))"
   ]
  },
  {
   "cell_type": "markdown",
   "metadata": {},
   "source": [
    "f) Create a function named `lots_of_math()`. This function should have four parameters named a, b, c, and d. The function should print 3 lines and return 1 value. First, the sum of a and b. Second, d subtracted from c. Third, the first number printed, multiplied by the second number printed. Finally, it should return the third number printed mod a."
   ]
  },
  {
   "cell_type": "code",
   "execution_count": 32,
   "metadata": {},
   "outputs": [
    {
     "name": "stdout",
     "output_type": "stream",
     "text": [
      "3\n",
      "1\n",
      "3\n",
      "0\n"
     ]
    }
   ],
   "source": [
    "# defining the function \n",
    "def lots_of_math(a,b,c,d):\n",
    "      first = a + b\n",
    "      second = d - c\n",
    "      print(first)\n",
    "      print(second)\n",
    "      third = first * second\n",
    "      print(third)\n",
    "      return third % a\n",
    "\n",
    "# testing the function\n",
    "print(lots_of_math(1, 2, 3, 4))\n"
   ]
  }
 ],
 "metadata": {
  "kernelspec": {
   "display_name": "Python 3",
   "language": "python",
   "name": "python3"
  },
  "language_info": {
   "codemirror_mode": {
    "name": "ipython",
    "version": 3
   },
   "file_extension": ".py",
   "mimetype": "text/x-python",
   "name": "python",
   "nbconvert_exporter": "python",
   "pygments_lexer": "ipython3",
   "version": "3.6.5"
  }
 },
 "nbformat": 4,
 "nbformat_minor": 2
}
