{
 "cells": [
  {
   "cell_type": "markdown",
   "metadata": {},
   "source": [
    "# Getting Ready for a Physics Class"
   ]
  },
  {
   "cell_type": "markdown",
   "metadata": {},
   "source": [
    "### You are a physics teacher preparing for the upcoming semester. You want to provide your students with some functions that will help them calculate some fundamental physical properties."
   ]
  },
  {
   "cell_type": "markdown",
   "metadata": {},
   "source": [
    "#### 1. Turn up the Temperature"
   ]
  },
  {
   "cell_type": "markdown",
   "metadata": {},
   "source": [
    "Q1) Write a function called `f_to_c` that takes an input `f_temp`, a temperature in Fahrenheit, and converts it to `c_temp`, that temperature in Celsius. It should then return `c_temp`.\n",
    "\n",
    "The equation you should use is:\n",
    "\n",
    "    Temp (C) = (Temp (F) - 32) * 5/9\n"
   ]
  },
  {
   "cell_type": "code",
   "execution_count": 15,
   "metadata": {},
   "outputs": [
    {
     "data": {
      "text/plain": [
       "37.77777777777778"
      ]
     },
     "execution_count": 15,
     "metadata": {},
     "output_type": "execute_result"
    }
   ],
   "source": [
    "# Defining the Farenheit to Celsius function\n",
    "def f_to_c(f_temp):\n",
    "      c_temp = (f_temp - 32) * 5/9\n",
    "      return c_temp\n",
    "\n",
    "# Checking the function for 100 Farenheits\n",
    "f_to_c(100)"
   ]
  },
  {
   "cell_type": "markdown",
   "metadata": {},
   "source": [
    "Q2) Write a function called c_to_f that takes an input c_temp, a temperature in Celsius, and converts it to f_temp, that temperature in Fahrenheit.It should then return f_temp.\n",
    "\n",
    "The equation you should use is:\n",
    "        \n",
    "        Temp (F) = Temp (C) * (9/5) + 32"
   ]
  },
  {
   "cell_type": "code",
   "execution_count": 14,
   "metadata": {},
   "outputs": [
    {
     "data": {
      "text/plain": [
       "32.0"
      ]
     },
     "execution_count": 14,
     "metadata": {},
     "output_type": "execute_result"
    }
   ],
   "source": [
    "# Defining Celsius to Farenheit function\n",
    "\n",
    "def c_to_f(c_temp):\n",
    "    f_temp = c_temp * (9/5) + 32\n",
    "    return f_temp\n",
    "\n",
    "# Checking the function for 0 Celsius\n",
    "c_to_f(0)"
   ]
  },
  {
   "cell_type": "markdown",
   "metadata": {},
   "source": [
    "#### 2. Use the Force"
   ]
  },
  {
   "cell_type": "markdown",
   "metadata": {},
   "source": [
    "2.a) Define a function called `get_force` that takes in `mass` and `acceleration`. It should return mass multiplied by acceleration."
   ]
  },
  {
   "cell_type": "code",
   "execution_count": 17,
   "metadata": {},
   "outputs": [
    {
     "name": "stdout",
     "output_type": "stream",
     "text": [
      "The GE train supplies 226800 Newtons of force\n"
     ]
    }
   ],
   "source": [
    "# Defining the function get_force\n",
    "\n",
    "def get_force(mass, accelration):\n",
    "    return mass * accelration\n",
    "\n",
    "# Testing the function\n",
    "train_mass = 22680\n",
    "train_acceleration = 10\n",
    "\n",
    "train_force = get_force(train_mass, train_acceleration)\n",
    "\n",
    "print(\"The GE train supplies \" + str(train_force) + \" Newtons of force\")\n"
   ]
  },
  {
   "cell_type": "markdown",
   "metadata": {},
   "source": [
    "2.b) Define a function called get_energy that takes in `mass` and `c`. `c` is a constant that is usually set to the speed of light, which is roughly `3 x 10^8`. Set c to have a default value of `3*10^8`. `get_energy` should return `mass` multiplied by `c` squared."
   ]
  },
  {
   "cell_type": "code",
   "execution_count": 20,
   "metadata": {},
   "outputs": [
    {
     "name": "stdout",
     "output_type": "stream",
     "text": [
      "A 1kg bomb supplies 300000000 Joules.\n"
     ]
    }
   ],
   "source": [
    "# Defining the get_energy function\n",
    "\n",
    "def get_energy(mass, c = 3*10**8):\n",
    "    return mass * c\n",
    "\n",
    "# Testing the function\n",
    "bomb_mass = 1\n",
    "\n",
    "# getting the energy in 1kg of bomb\n",
    "bomb_energy = get_energy(bomb_mass)\n",
    "  \n",
    "print(\"A 1kg bomb supplies \" + str(bomb_energy)+ \" Joules.\")"
   ]
  },
  {
   "cell_type": "markdown",
   "metadata": {},
   "source": [
    "#### 3. Do the work"
   ]
  },
  {
   "cell_type": "markdown",
   "metadata": {},
   "source": [
    "3.a) Define a final function called `get_work` that takes in `mass`, `acceleration` and `distance`. Work is defined as force multiplied by distance. First, get the force using get_force, then multiply that by distance. Return the result.\n"
   ]
  },
  {
   "cell_type": "code",
   "execution_count": 21,
   "metadata": {},
   "outputs": [
    {
     "name": "stdout",
     "output_type": "stream",
     "text": [
      "The GE train does 22680000 Joules of work over 100 meters\n"
     ]
    }
   ],
   "source": [
    "# Defining the function \n",
    "def get_work(mass, acceleration, distance):\n",
    "    return mass * acceleration * distance\n",
    "\n",
    "# values to be used\n",
    "train_mass = 22680\n",
    "train_acceleration = 10\n",
    "train_distance = 100\n",
    "\n",
    "# using the values to test the function \n",
    "train_work = get_work(train_mass, train_acceleration, train_distance)\n",
    "\n",
    "print(\"The GE train does \"+ str(train_work)+ \" Joules of work over \" + str(train_distance) +\" meters\")\n"
   ]
  }
 ],
 "metadata": {
  "kernelspec": {
   "display_name": "Python 3",
   "language": "python",
   "name": "python3"
  },
  "language_info": {
   "codemirror_mode": {
    "name": "ipython",
    "version": 3
   },
   "file_extension": ".py",
   "mimetype": "text/x-python",
   "name": "python",
   "nbconvert_exporter": "python",
   "pygments_lexer": "ipython3",
   "version": "3.6.5"
  }
 },
 "nbformat": 4,
 "nbformat_minor": 2
}
